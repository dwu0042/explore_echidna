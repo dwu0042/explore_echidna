{
 "cells": [
  {
   "cell_type": "code",
   "execution_count": 26,
   "metadata": {},
   "outputs": [],
   "source": [
    "import networkx as nx\n",
    "import igraph as ig\n",
    "\n",
    "from matplotlib import pyplot as plt\n",
    "\n",
    "%matplotlib inline"
   ]
  },
  {
   "cell_type": "code",
   "execution_count": 29,
   "metadata": {},
   "outputs": [
    {
     "data": {
      "text/plain": [
       "<module 'graph_importer' from '/home/davidwu/REPOS/echidna_network/graph_importer.py'>"
      ]
     },
     "execution_count": 29,
     "metadata": {},
     "output_type": "execute_result"
    }
   ],
   "source": [
    "import graph_importer\n",
    "reload(graph_importer)"
   ]
  },
  {
   "cell_type": "code",
   "execution_count": 30,
   "metadata": {},
   "outputs": [],
   "source": [
    "NX_G = nx.read_weighted_edgelist(\"temponet_28_365.semicolon.weighted.edgelist.encrypted\", delimiter=\";\", nodetype=graph_importer.temporal_node_parse)"
   ]
  },
  {
   "cell_type": "code",
   "execution_count": 31,
   "metadata": {},
   "outputs": [],
   "source": [
    "G = ig.Graph.from_networkx(NX_G)"
   ]
  },
  {
   "cell_type": "code",
   "execution_count": 35,
   "metadata": {},
   "outputs": [],
   "source": [
    "G.vs['place'] = [x[0] for x in G.vs['_nx_name']]\n",
    "G.vs['time'] = [x[1] for x in G.vs['_nx_name']]"
   ]
  },
  {
   "cell_type": "code",
   "execution_count": 39,
   "metadata": {},
   "outputs": [
    {
     "data": {
      "text/plain": [
       "[igraph.Vertex(<igraph.Graph object at 0x7fc078925d40>, 0, {'_nx_name': (5306, 1120), 'place': 5306, 'time': 1120}),\n",
       " igraph.Vertex(<igraph.Graph object at 0x7fc078925d40>, 1, {'_nx_name': (6734, 1120), 'place': 6734, 'time': 1120}),\n",
       " igraph.Vertex(<igraph.Graph object at 0x7fc078925d40>, 2, {'_nx_name': (5306, 1148), 'place': 5306, 'time': 1148}),\n",
       " igraph.Vertex(<igraph.Graph object at 0x7fc078925d40>, 3, {'_nx_name': (7201, 1120), 'place': 7201, 'time': 1120}),\n",
       " igraph.Vertex(<igraph.Graph object at 0x7fc078925d40>, 4, {'_nx_name': (9665, 1176), 'place': 9665, 'time': 1176}),\n",
       " igraph.Vertex(<igraph.Graph object at 0x7fc078925d40>, 5, {'_nx_name': (2459, 1344), 'place': 2459, 'time': 1344}),\n",
       " igraph.Vertex(<igraph.Graph object at 0x7fc078925d40>, 6, {'_nx_name': (6734, 1288), 'place': 6734, 'time': 1288}),\n",
       " igraph.Vertex(<igraph.Graph object at 0x7fc078925d40>, 7, {'_nx_name': (6734, 1344), 'place': 6734, 'time': 1344}),\n",
       " igraph.Vertex(<igraph.Graph object at 0x7fc078925d40>, 8, {'_nx_name': (6764, 1484), 'place': 6764, 'time': 1484}),\n",
       " igraph.Vertex(<igraph.Graph object at 0x7fc078925d40>, 9, {'_nx_name': (2269, 1120), 'place': 2269, 'time': 1120}),\n",
       " igraph.Vertex(<igraph.Graph object at 0x7fc078925d40>, 10, {'_nx_name': (7201, 1148), 'place': 7201, 'time': 1148}),\n",
       " igraph.Vertex(<igraph.Graph object at 0x7fc078925d40>, 11, {'_nx_name': (5150, 1232), 'place': 5150, 'time': 1232}),\n",
       " igraph.Vertex(<igraph.Graph object at 0x7fc078925d40>, 12, {'_nx_name': (5306, 1428), 'place': 5306, 'time': 1428}),\n",
       " igraph.Vertex(<igraph.Graph object at 0x7fc078925d40>, 13, {'_nx_name': (6809, 1232), 'place': 6809, 'time': 1232}),\n",
       " igraph.Vertex(<igraph.Graph object at 0x7fc078925d40>, 14, {'_nx_name': (9665, 1400), 'place': 9665, 'time': 1400}),\n",
       " igraph.Vertex(<igraph.Graph object at 0x7fc078925d40>, 15, {'_nx_name': (6051, 1120), 'place': 6051, 'time': 1120}),\n",
       " igraph.Vertex(<igraph.Graph object at 0x7fc078925d40>, 16, {'_nx_name': (3744, 1260), 'place': 3744, 'time': 1260}),\n",
       " igraph.Vertex(<igraph.Graph object at 0x7fc078925d40>, 17, {'_nx_name': (6734, 1456), 'place': 6734, 'time': 1456}),\n",
       " igraph.Vertex(<igraph.Graph object at 0x7fc078925d40>, 18, {'_nx_name': (8281, 1120), 'place': 8281, 'time': 1120}),\n",
       " igraph.Vertex(<igraph.Graph object at 0x7fc078925d40>, 19, {'_nx_name': (9665, 1260), 'place': 9665, 'time': 1260})]"
      ]
     },
     "execution_count": 39,
     "metadata": {},
     "output_type": "execute_result"
    }
   ],
   "source": [
    "list(G.vs.select(time_gt=300)[:20])"
   ]
  },
  {
   "cell_type": "code",
   "execution_count": 41,
   "metadata": {},
   "outputs": [
    {
     "data": {
      "text/plain": [
       "38942"
      ]
     },
     "execution_count": 41,
     "metadata": {},
     "output_type": "execute_result"
    }
   ],
   "source": [
    "len(G.vs)"
   ]
  },
  {
   "cell_type": "code",
   "execution_count": null,
   "metadata": {},
   "outputs": [],
   "source": []
  }
 ],
 "metadata": {
  "kernelspec": {
   "display_name": "Python 3 (ipykernel)",
   "language": "python",
   "name": "python3"
  },
  "language_info": {
   "codemirror_mode": {
    "name": "ipython",
    "version": 3
   },
   "file_extension": ".py",
   "mimetype": "text/x-python",
   "name": "python",
   "nbconvert_exporter": "python",
   "pygments_lexer": "ipython3",
   "version": "3.10.9"
  }
 },
 "nbformat": 4,
 "nbformat_minor": 4
}
