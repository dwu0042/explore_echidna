{
 "cells": [
  {
   "cell_type": "code",
   "execution_count": 1,
   "id": "f2c13ba9-2aa4-4718-9a9b-b9b99eebb215",
   "metadata": {
    "execution": {
     "iopub.execute_input": "2024-01-24T07:34:41.427509Z",
     "iopub.status.busy": "2024-01-24T07:34:41.427132Z",
     "iopub.status.idle": "2024-01-24T07:34:41.757388Z",
     "shell.execute_reply": "2024-01-24T07:34:41.756708Z",
     "shell.execute_reply.started": "2024-01-24T07:34:41.427479Z"
    }
   },
   "outputs": [],
   "source": [
    "import igraph as ig\n",
    "import graph_importer as gim\n",
    "import numpy as np\n",
    "import polars as pl"
   ]
  },
  {
   "cell_type": "code",
   "execution_count": 2,
   "id": "a3b768ea-217d-4aeb-b057-e37ec10164e8",
   "metadata": {
    "execution": {
     "iopub.execute_input": "2024-01-24T07:35:16.732826Z",
     "iopub.status.busy": "2024-01-24T07:35:16.732575Z",
     "iopub.status.idle": "2024-01-24T07:35:19.756304Z",
     "shell.execute_reply": "2024-01-24T07:35:19.755663Z",
     "shell.execute_reply.started": "2024-01-24T07:35:16.732809Z"
    }
   },
   "outputs": [],
   "source": [
    "G = gim.make_graph('concordant_networks/temponet_14_365.lgl')\n",
    "S = ig.Graph.Read_GraphML('conc_tempo_14_in/0014.graphml')"
   ]
  },
  {
   "cell_type": "code",
   "execution_count": 3,
   "id": "5092c4f1-4145-4693-b182-db6b1914b601",
   "metadata": {
    "execution": {
     "iopub.execute_input": "2024-01-24T07:36:35.044306Z",
     "iopub.status.busy": "2024-01-24T07:36:35.044136Z",
     "iopub.status.idle": "2024-01-24T07:36:40.257386Z",
     "shell.execute_reply": "2024-01-24T07:36:40.256958Z",
     "shell.execute_reply.started": "2024-01-24T07:36:35.044293Z"
    }
   },
   "outputs": [
    {
     "data": {
      "text/html": [
       "<div><style>\n",
       ".dataframe > thead > tr,\n",
       ".dataframe > tbody > tr {\n",
       "  text-align: right;\n",
       "  white-space: pre-wrap;\n",
       "}\n",
       "</style>\n",
       "<small>shape: (2, 2)</small><table border=\"1\" class=\"dataframe\"><thead><tr><th>same_time</th><th>count</th></tr><tr><td>bool</td><td>u32</td></tr></thead><tbody><tr><td>false</td><td>3936478</td></tr><tr><td>true</td><td>521059</td></tr></tbody></table></div>"
      ],
      "text/plain": [
       "shape: (2, 2)\n",
       "┌───────────┬─────────┐\n",
       "│ same_time ┆ count   │\n",
       "│ ---       ┆ ---     │\n",
       "│ bool      ┆ u32     │\n",
       "╞═══════════╪═════════╡\n",
       "│ false     ┆ 3936478 │\n",
       "│ true      ┆ 521059  │\n",
       "└───────────┴─────────┘"
      ]
     },
     "execution_count": 3,
     "metadata": {},
     "output_type": "execute_result"
    }
   ],
   "source": [
    "# simple examine attrs of edges\n",
    "\n",
    "edge_time = [(e.source_vertex['time'], e.target_vertex['time']) for e in G.es]\n",
    "edge_time_df = pl.from_numpy(np.asanyarray(edge_time), schema=['from_time', 'to_time'])\n",
    "edge_time_df.with_columns(pl.col('from_time').eq(pl.col('to_time')).alias('same_time')).group_by('same_time').count()"
   ]
  },
  {
   "cell_type": "code",
   "execution_count": 4,
   "id": "f83e1f8f-54b5-41db-b140-6e5b9468f3cb",
   "metadata": {
    "execution": {
     "iopub.execute_input": "2024-01-24T07:37:40.651933Z",
     "iopub.status.busy": "2024-01-24T07:37:40.651736Z",
     "iopub.status.idle": "2024-01-24T07:37:45.746118Z",
     "shell.execute_reply": "2024-01-24T07:37:45.745769Z",
     "shell.execute_reply.started": "2024-01-24T07:37:40.651919Z"
    }
   },
   "outputs": [
    {
     "data": {
      "text/html": [
       "<div><style>\n",
       ".dataframe > thead > tr,\n",
       ".dataframe > tbody > tr {\n",
       "  text-align: right;\n",
       "  white-space: pre-wrap;\n",
       "}\n",
       "</style>\n",
       "<small>shape: (2, 2)</small><table border=\"1\" class=\"dataframe\"><thead><tr><th>same_loc</th><th>count</th></tr><tr><td>bool</td><td>u32</td></tr></thead><tbody><tr><td>true</td><td>772135</td></tr><tr><td>false</td><td>3685402</td></tr></tbody></table></div>"
      ],
      "text/plain": [
       "shape: (2, 2)\n",
       "┌──────────┬─────────┐\n",
       "│ same_loc ┆ count   │\n",
       "│ ---      ┆ ---     │\n",
       "│ bool     ┆ u32     │\n",
       "╞══════════╪═════════╡\n",
       "│ true     ┆ 772135  │\n",
       "│ false    ┆ 3685402 │\n",
       "└──────────┴─────────┘"
      ]
     },
     "execution_count": 4,
     "metadata": {},
     "output_type": "execute_result"
    }
   ],
   "source": [
    "edge_loc = [(e.source_vertex['loc'], e.target_vertex['loc']) for e in G.es]\n",
    "edge_loc_df = pl.from_numpy(np.asanyarray(edge_loc), schema=['from_loc', 'to_loc'])\n",
    "edge_loc_df.with_columns(pl.col('from_loc').eq(pl.col('to_loc')).alias('same_loc')).group_by('same_loc').count()"
   ]
  },
  {
   "cell_type": "code",
   "execution_count": 5,
   "id": "45906092-bad2-4116-a6d9-1d99ce7ad436",
   "metadata": {
    "execution": {
     "iopub.execute_input": "2024-01-24T07:38:47.465668Z",
     "iopub.status.busy": "2024-01-24T07:38:47.465294Z",
     "iopub.status.idle": "2024-01-24T07:38:53.931135Z",
     "shell.execute_reply": "2024-01-24T07:38:53.930328Z",
     "shell.execute_reply.started": "2024-01-24T07:38:47.465657Z"
    }
   },
   "outputs": [],
   "source": [
    "edge_attrs = [(e.source_vertex['loc'], \n",
    "               e.source_vertex['time'], \n",
    "               e.target_vertex['loc'],\n",
    "               e.target_vertex['time']) \n",
    "              for e in G.es]"
   ]
  },
  {
   "cell_type": "code",
   "execution_count": 6,
   "id": "5e00f5bd-a336-4040-a4ec-1d23910c7d8d",
   "metadata": {
    "execution": {
     "iopub.execute_input": "2024-01-24T07:39:13.024128Z",
     "iopub.status.busy": "2024-01-24T07:39:13.023933Z",
     "iopub.status.idle": "2024-01-24T07:39:13.901788Z",
     "shell.execute_reply": "2024-01-24T07:39:13.900935Z",
     "shell.execute_reply.started": "2024-01-24T07:39:13.024116Z"
    }
   },
   "outputs": [],
   "source": [
    "edge_attrs_df = pl.from_numpy(np.asanyarray(edge_attrs), schema=['from_loc', 'from_time', 'to_loc', 'to_time'])"
   ]
  },
  {
   "cell_type": "code",
   "execution_count": 11,
   "id": "e73d101b-e4fd-43b0-9b3b-e7e9c84f47bb",
   "metadata": {
    "execution": {
     "iopub.execute_input": "2024-01-24T07:42:30.773609Z",
     "iopub.status.busy": "2024-01-24T07:42:30.773339Z",
     "iopub.status.idle": "2024-01-24T07:42:30.783623Z",
     "shell.execute_reply": "2024-01-24T07:42:30.782878Z",
     "shell.execute_reply.started": "2024-01-24T07:42:30.773589Z"
    }
   },
   "outputs": [],
   "source": [
    "edge_attrs_df = edge_attrs_df.with_columns(\n",
    "    pl.col('from_loc').eq(pl.col('to_loc')).alias('same_loc'),\n",
    "    pl.col('from_time').eq(pl.col('to_time')).alias('same_time'),\n",
    ").with_columns(\n",
    "    pl.col('same_loc').or_(pl.col('same_time')).alias('orthog_edge')\n",
    ")"
   ]
  },
  {
   "cell_type": "code",
   "execution_count": 12,
   "id": "ea43b3ea-a47b-4a39-82b9-94c99f47d3de",
   "metadata": {
    "execution": {
     "iopub.execute_input": "2024-01-24T07:42:44.533638Z",
     "iopub.status.busy": "2024-01-24T07:42:44.533223Z",
     "iopub.status.idle": "2024-01-24T07:42:44.548639Z",
     "shell.execute_reply": "2024-01-24T07:42:44.548263Z",
     "shell.execute_reply.started": "2024-01-24T07:42:44.533605Z"
    }
   },
   "outputs": [
    {
     "data": {
      "text/html": [
       "<div><style>\n",
       ".dataframe > thead > tr,\n",
       ".dataframe > tbody > tr {\n",
       "  text-align: right;\n",
       "  white-space: pre-wrap;\n",
       "}\n",
       "</style>\n",
       "<small>shape: (2, 2)</small><table border=\"1\" class=\"dataframe\"><thead><tr><th>orthog_edge</th><th>count</th></tr><tr><td>bool</td><td>u32</td></tr></thead><tbody><tr><td>false</td><td>3213130</td></tr><tr><td>true</td><td>1244407</td></tr></tbody></table></div>"
      ],
      "text/plain": [
       "shape: (2, 2)\n",
       "┌─────────────┬─────────┐\n",
       "│ orthog_edge ┆ count   │\n",
       "│ ---         ┆ ---     │\n",
       "│ bool        ┆ u32     │\n",
       "╞═════════════╪═════════╡\n",
       "│ false       ┆ 3213130 │\n",
       "│ true        ┆ 1244407 │\n",
       "└─────────────┴─────────┘"
      ]
     },
     "execution_count": 12,
     "metadata": {},
     "output_type": "execute_result"
    }
   ],
   "source": [
    "edge_attrs_df.group_by('orthog_edge').count()"
   ]
  },
  {
   "cell_type": "code",
   "execution_count": null,
   "id": "f93a112b-f7dc-42b1-a061-43964d3dbbc3",
   "metadata": {},
   "outputs": [],
   "source": []
  }
 ],
 "metadata": {
  "kernelspec": {
   "display_name": "Python 3 (ipykernel)",
   "language": "python",
   "name": "python3"
  },
  "language_info": {
   "codemirror_mode": {
    "name": "ipython",
    "version": 3
   },
   "file_extension": ".py",
   "mimetype": "text/x-python",
   "name": "python",
   "nbconvert_exporter": "python",
   "pygments_lexer": "ipython3",
   "version": "3.10.9"
  }
 },
 "nbformat": 4,
 "nbformat_minor": 5
}
