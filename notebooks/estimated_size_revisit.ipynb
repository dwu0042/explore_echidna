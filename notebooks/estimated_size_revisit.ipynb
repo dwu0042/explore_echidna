{
 "cells": [
  {
   "cell_type": "code",
   "execution_count": 20,
   "id": "4655e2da-7168-4ba9-ac3c-a11a43f13dc6",
   "metadata": {
    "execution": {
     "iopub.execute_input": "2025-05-06T03:58:35.386240Z",
     "iopub.status.busy": "2025-05-06T03:58:35.385983Z",
     "iopub.status.idle": "2025-05-06T03:58:35.436345Z",
     "shell.execute_reply": "2025-05-06T03:58:35.435740Z",
     "shell.execute_reply.started": "2025-05-06T03:58:35.386217Z"
    }
   },
   "outputs": [],
   "source": [
    "from echidna import examine_transfers_for_sizes as esz\n",
    "import polars as pl\n",
    "from matplotlib import pyplot as plt\n",
    "import seaborn as sns\n",
    "import plotly.express as px"
   ]
  },
  {
   "cell_type": "markdown",
   "id": "29198411-c828-4cdc-8615-d4b39f5af962",
   "metadata": {},
   "source": [
    "We examine an assumption we made during the estimation of the size of facilities earlier.\n",
    "This was that all facilities existed at all times.\n",
    "This is not True for all facilities."
   ]
  },
  {
   "cell_type": "code",
   "execution_count": 3,
   "id": "ea8c9904-ce88-4e37-a049-3416900233c5",
   "metadata": {
    "execution": {
     "iopub.execute_input": "2025-05-06T03:20:46.568661Z",
     "iopub.status.busy": "2025-05-06T03:20:46.568178Z",
     "iopub.status.idle": "2025-05-06T03:20:46.601418Z",
     "shell.execute_reply": "2025-05-06T03:20:46.600959Z",
     "shell.execute_reply.started": "2025-05-06T03:20:46.568607Z"
    }
   },
   "outputs": [
    {
     "data": {
      "text/plain": [
       "\u001b[0;31mSignature:\u001b[0m \u001b[0mesz\u001b[0m\u001b[0;34m.\u001b[0m\u001b[0mrough_hospital_size\u001b[0m\u001b[0;34m(\u001b[0m\u001b[0mG\u001b[0m\u001b[0;34m:\u001b[0m \u001b[0migraph\u001b[0m\u001b[0;34m.\u001b[0m\u001b[0mGraph\u001b[0m\u001b[0;34m,\u001b[0m \u001b[0mround_precision\u001b[0m\u001b[0;34m=\u001b[0m\u001b[0;36m16\u001b[0m\u001b[0;34m,\u001b[0m \u001b[0mclip_under\u001b[0m\u001b[0;34m=\u001b[0m\u001b[0;36m5\u001b[0m\u001b[0;34m)\u001b[0m\u001b[0;34m\u001b[0m\u001b[0;34m\u001b[0m\u001b[0m\n",
       "\u001b[0;31mDocstring:\u001b[0m <no docstring>\n",
       "\u001b[0;31mSource:\u001b[0m   \n",
       "\u001b[0;32mdef\u001b[0m \u001b[0mrough_hospital_size\u001b[0m\u001b[0;34m(\u001b[0m\u001b[0mG\u001b[0m\u001b[0;34m:\u001b[0m \u001b[0mig\u001b[0m\u001b[0;34m.\u001b[0m\u001b[0mGraph\u001b[0m\u001b[0;34m,\u001b[0m \u001b[0mround_precision\u001b[0m\u001b[0;34m=\u001b[0m\u001b[0;36m16\u001b[0m\u001b[0;34m,\u001b[0m \u001b[0mclip_under\u001b[0m\u001b[0;34m=\u001b[0m\u001b[0;36m5\u001b[0m\u001b[0;34m)\u001b[0m\u001b[0;34m:\u001b[0m\u001b[0;34m\u001b[0m\n",
       "\u001b[0;34m\u001b[0m    \u001b[0mPROP_READMIT\u001b[0m \u001b[0;34m=\u001b[0m \u001b[0;36m0.42\u001b[0m  \u001b[0;31m# persons/admission\u001b[0m\u001b[0;34m\u001b[0m\n",
       "\u001b[0;34m\u001b[0m    \u001b[0mCHURN_RATE\u001b[0m \u001b[0;34m=\u001b[0m \u001b[0;36m1\u001b[0m  \u001b[0;31m# hospitals/day\u001b[0m\u001b[0;34m\u001b[0m\n",
       "\u001b[0;34m\u001b[0m    \u001b[0mTIME_SCALE\u001b[0m \u001b[0;34m=\u001b[0m \u001b[0;36m3652\u001b[0m  \u001b[0;31m# days\u001b[0m\u001b[0;34m\u001b[0m\n",
       "\u001b[0;34m\u001b[0m    \u001b[0;32mreturn\u001b[0m \u001b[0;34m{\u001b[0m\u001b[0;34m\u001b[0m\n",
       "\u001b[0;34m\u001b[0m        \u001b[0mloc\u001b[0m\u001b[0;34m:\u001b[0m \u001b[0mnp\u001b[0m\u001b[0;34m.\u001b[0m\u001b[0mround\u001b[0m\u001b[0;34m(\u001b[0m\u001b[0;34m\u001b[0m\n",
       "\u001b[0;34m\u001b[0m            \u001b[0mnp\u001b[0m\u001b[0;34m.\u001b[0m\u001b[0mclip\u001b[0m\u001b[0;34m(\u001b[0m\u001b[0msz\u001b[0m \u001b[0;34m/\u001b[0m \u001b[0mPROP_READMIT\u001b[0m \u001b[0;34m/\u001b[0m \u001b[0mTIME_SCALE\u001b[0m \u001b[0;34m/\u001b[0m \u001b[0mCHURN_RATE\u001b[0m\u001b[0;34m,\u001b[0m \u001b[0mclip_under\u001b[0m\u001b[0;34m,\u001b[0m \u001b[0;32mNone\u001b[0m\u001b[0;34m)\u001b[0m\u001b[0;34m,\u001b[0m\u001b[0;34m\u001b[0m\n",
       "\u001b[0;34m\u001b[0m            \u001b[0mround_precision\u001b[0m\u001b[0;34m,\u001b[0m\u001b[0;34m\u001b[0m\n",
       "\u001b[0;34m\u001b[0m        \u001b[0;34m)\u001b[0m\u001b[0;34m\u001b[0m\n",
       "\u001b[0;34m\u001b[0m        \u001b[0;32mfor\u001b[0m \u001b[0mloc\u001b[0m\u001b[0;34m,\u001b[0m \u001b[0msz\u001b[0m \u001b[0;32min\u001b[0m \u001b[0mdetermine_out_edges\u001b[0m\u001b[0;34m(\u001b[0m\u001b[0mG\u001b[0m\u001b[0;34m)\u001b[0m\u001b[0;34m.\u001b[0m\u001b[0mitems\u001b[0m\u001b[0;34m(\u001b[0m\u001b[0;34m)\u001b[0m\u001b[0;34m\u001b[0m\n",
       "\u001b[0;34m\u001b[0m    \u001b[0;34m}\u001b[0m\u001b[0;34m\u001b[0m\u001b[0;34m\u001b[0m\u001b[0m\n",
       "\u001b[0;31mFile:\u001b[0m      ~/.virtualenvs/monv/lib/python3.12/site-packages/echidna/examine_transfers_for_sizes.py\n",
       "\u001b[0;31mType:\u001b[0m      function"
      ]
     },
     "metadata": {},
     "output_type": "display_data"
    }
   ],
   "source": [
    "esz.rough_hospital_size??"
   ]
  },
  {
   "cell_type": "code",
   "execution_count": 4,
   "id": "d9605734-afba-4a17-8207-ebb080a75707",
   "metadata": {
    "execution": {
     "iopub.execute_input": "2025-05-06T03:20:53.286513Z",
     "iopub.status.busy": "2025-05-06T03:20:53.286187Z",
     "iopub.status.idle": "2025-05-06T03:20:53.292744Z",
     "shell.execute_reply": "2025-05-06T03:20:53.292438Z",
     "shell.execute_reply.started": "2025-05-06T03:20:53.286489Z"
    }
   },
   "outputs": [
    {
     "data": {
      "text/plain": [
       "\u001b[0;31mSignature:\u001b[0m\n",
       "\u001b[0mesz\u001b[0m\u001b[0;34m.\u001b[0m\u001b[0mnuanced_hospital_size\u001b[0m\u001b[0;34m(\u001b[0m\u001b[0;34m\u001b[0m\n",
       "\u001b[0;34m\u001b[0m    \u001b[0mG\u001b[0m\u001b[0;34m:\u001b[0m \u001b[0migraph\u001b[0m\u001b[0;34m.\u001b[0m\u001b[0mGraph\u001b[0m\u001b[0;34m,\u001b[0m\u001b[0;34m\u001b[0m\n",
       "\u001b[0;34m\u001b[0m    \u001b[0mround_precision\u001b[0m\u001b[0;34m=\u001b[0m\u001b[0;36m16\u001b[0m\u001b[0;34m,\u001b[0m\u001b[0;34m\u001b[0m\n",
       "\u001b[0;34m\u001b[0m    \u001b[0mclip_under\u001b[0m\u001b[0;34m=\u001b[0m\u001b[0;36m5\u001b[0m\u001b[0;34m,\u001b[0m\u001b[0;34m\u001b[0m\n",
       "\u001b[0;34m\u001b[0m\u001b[0;34m)\u001b[0m\u001b[0;34m\u001b[0m\u001b[0;34m\u001b[0m\u001b[0m\n",
       "\u001b[0;31mDocstring:\u001b[0m <no docstring>\n",
       "\u001b[0;31mSource:\u001b[0m   \n",
       "\u001b[0;32mdef\u001b[0m \u001b[0mnuanced_hospital_size\u001b[0m\u001b[0;34m(\u001b[0m\u001b[0mG\u001b[0m\u001b[0;34m:\u001b[0m \u001b[0mig\u001b[0m\u001b[0;34m.\u001b[0m\u001b[0mGraph\u001b[0m\u001b[0;34m,\u001b[0m \u001b[0mround_precision\u001b[0m\u001b[0;34m=\u001b[0m\u001b[0;36m16\u001b[0m\u001b[0;34m,\u001b[0m \u001b[0mclip_under\u001b[0m\u001b[0;34m=\u001b[0m\u001b[0;36m5\u001b[0m\u001b[0;34m)\u001b[0m\u001b[0;34m:\u001b[0m\u001b[0;34m\u001b[0m\n",
       "\u001b[0;34m\u001b[0m    \u001b[0mPROP_READMIT\u001b[0m \u001b[0;34m=\u001b[0m \u001b[0;36m0.42\u001b[0m\u001b[0;34m\u001b[0m\n",
       "\u001b[0;34m\u001b[0m    \u001b[0mCHURN_RATE\u001b[0m \u001b[0;34m=\u001b[0m \u001b[0;36m1\u001b[0m\u001b[0;34m\u001b[0m\n",
       "\u001b[0;34m\u001b[0m    \u001b[0mexistence\u001b[0m \u001b[0;34m=\u001b[0m \u001b[0mdetermine_existence_duration\u001b[0m\u001b[0;34m(\u001b[0m\u001b[0mG\u001b[0m\u001b[0;34m)\u001b[0m\u001b[0;34m\u001b[0m\n",
       "\u001b[0;34m\u001b[0m    \u001b[0;32mreturn\u001b[0m \u001b[0;34m{\u001b[0m\u001b[0;34m\u001b[0m\n",
       "\u001b[0;34m\u001b[0m        \u001b[0mloc\u001b[0m\u001b[0;34m:\u001b[0m \u001b[0mnp\u001b[0m\u001b[0;34m.\u001b[0m\u001b[0mround\u001b[0m\u001b[0;34m(\u001b[0m\u001b[0;34m\u001b[0m\n",
       "\u001b[0;34m\u001b[0m            \u001b[0mnp\u001b[0m\u001b[0;34m.\u001b[0m\u001b[0mclip\u001b[0m\u001b[0;34m(\u001b[0m\u001b[0msz\u001b[0m \u001b[0;34m/\u001b[0m \u001b[0mPROP_READMIT\u001b[0m \u001b[0;34m/\u001b[0m \u001b[0mexistence\u001b[0m\u001b[0;34m[\u001b[0m\u001b[0mloc\u001b[0m\u001b[0;34m]\u001b[0m \u001b[0;34m/\u001b[0m \u001b[0mCHURN_RATE\u001b[0m\u001b[0;34m,\u001b[0m \u001b[0mclip_under\u001b[0m\u001b[0;34m,\u001b[0m \u001b[0;32mNone\u001b[0m\u001b[0;34m)\u001b[0m\u001b[0;34m,\u001b[0m\u001b[0;34m\u001b[0m\n",
       "\u001b[0;34m\u001b[0m            \u001b[0mround_precision\u001b[0m\u001b[0;34m\u001b[0m\n",
       "\u001b[0;34m\u001b[0m        \u001b[0;34m)\u001b[0m\u001b[0;34m\u001b[0m\n",
       "\u001b[0;34m\u001b[0m        \u001b[0;32mfor\u001b[0m \u001b[0mloc\u001b[0m\u001b[0;34m,\u001b[0m \u001b[0msz\u001b[0m \u001b[0;32min\u001b[0m \u001b[0mdetermine_out_edges\u001b[0m\u001b[0;34m(\u001b[0m\u001b[0mG\u001b[0m\u001b[0;34m)\u001b[0m\u001b[0;34m.\u001b[0m\u001b[0mitems\u001b[0m\u001b[0;34m(\u001b[0m\u001b[0;34m)\u001b[0m\u001b[0;34m\u001b[0m\n",
       "\u001b[0;34m\u001b[0m    \u001b[0;34m}\u001b[0m\u001b[0;34m\u001b[0m\u001b[0;34m\u001b[0m\u001b[0m\n",
       "\u001b[0;31mFile:\u001b[0m      ~/.virtualenvs/monv/lib/python3.12/site-packages/echidna/examine_transfers_for_sizes.py\n",
       "\u001b[0;31mType:\u001b[0m      function"
      ]
     },
     "metadata": {},
     "output_type": "display_data"
    }
   ],
   "source": [
    "esz.nuanced_hospital_size??"
   ]
  },
  {
   "cell_type": "markdown",
   "id": "ec4f9156-0c4c-4091-9cd9-a9c3ae181a2c",
   "metadata": {},
   "source": [
    "The difference here is that for the more nuanced estaimtion, we use the actual duration of existence of the facility."
   ]
  },
  {
   "cell_type": "markdown",
   "id": "8d367b9c-920d-4a09-b8a3-71c70e2247e9",
   "metadata": {
    "execution": {
     "iopub.execute_input": "2025-05-06T03:22:01.347718Z",
     "iopub.status.busy": "2025-05-06T03:22:01.347447Z",
     "iopub.status.idle": "2025-05-06T03:22:01.351661Z",
     "shell.execute_reply": "2025-05-06T03:22:01.351225Z",
     "shell.execute_reply.started": "2025-05-06T03:22:01.347696Z"
    }
   },
   "source": [
    "We have exported these to different size files, since the computation takes some amount of time"
   ]
  },
  {
   "cell_type": "code",
   "execution_count": 6,
   "id": "035f08c8-606f-44db-8900-25308167fc3e",
   "metadata": {
    "execution": {
     "iopub.execute_input": "2025-05-06T03:23:08.178958Z",
     "iopub.status.busy": "2025-05-06T03:23:08.178800Z",
     "iopub.status.idle": "2025-05-06T03:23:08.183496Z",
     "shell.execute_reply": "2025-05-06T03:23:08.183175Z",
     "shell.execute_reply.started": "2025-05-06T03:23:08.178945Z"
    }
   },
   "outputs": [],
   "source": [
    "new_df = pl.read_csv(\"../data/concordant_networks/size_14_nu.csv\")\n",
    "old_df = pl.read_csv(\"../data/concordant_networks/size_14.csv\")"
   ]
  },
  {
   "cell_type": "code",
   "execution_count": 7,
   "id": "d6aeccf0-42ce-4e01-8015-c93a9c0d22fe",
   "metadata": {
    "execution": {
     "iopub.execute_input": "2025-05-06T03:24:13.315531Z",
     "iopub.status.busy": "2025-05-06T03:24:13.315274Z",
     "iopub.status.idle": "2025-05-06T03:24:13.321199Z",
     "shell.execute_reply": "2025-05-06T03:24:13.320817Z",
     "shell.execute_reply.started": "2025-05-06T03:24:13.315508Z"
    }
   },
   "outputs": [],
   "source": [
    "sizes = (\n",
    "    new_df.join(old_df, on='hospital')\n",
    "    .with_columns(diff = pl.col('size') - pl.col('estimated_size'))\n",
    "    .with_columns(diff_prop = pl.col('diff') / pl.col('estimated_size'))\n",
    ")"
   ]
  },
  {
   "cell_type": "code",
   "execution_count": 19,
   "id": "f7601ca6-4046-441c-ba54-c24d1c93cd1e",
   "metadata": {
    "execution": {
     "iopub.execute_input": "2025-05-06T03:49:08.329900Z",
     "iopub.status.busy": "2025-05-06T03:49:08.329592Z",
     "iopub.status.idle": "2025-05-06T03:49:08.475997Z",
     "shell.execute_reply": "2025-05-06T03:49:08.475518Z",
     "shell.execute_reply.started": "2025-05-06T03:49:08.329873Z"
    }
   },
   "outputs": [
    {
     "data": {
      "image/png": "[encoded data removed]",
      "text/plain": [
       "<Figure size 700x900 with 2 Axes>"
      ]
     },
     "metadata": {},
     "output_type": "display_data"
    }
   ],
   "source": [
    "f, axs = plt.subplots(nrows=2, sharex=True, figsize=[7, 9])\n",
    "sns.histplot(sizes, x='diff_prop', y='diff', ax=axs[0])\n",
    "sns.histplot(sizes, x='diff_prop', ax=axs[1])\n",
    "axs[1].invert_yaxis()"
   ]
  },
  {
   "cell_type": "code",
   "execution_count": null,
   "id": "759645bf-1a3e-4260-9550-365c815bbea3",
   "metadata": {},
   "outputs": [],
   "source": []
  }
 ],
 "metadata": {
  "kernelspec": {
   "display_name": "Python 3 (ipykernel)",
   "language": "python",
   "name": "python3"
  },
  "language_info": {
   "codemirror_mode": {
    "name": "ipython",
    "version": 3
   },
   "file_extension": ".py",
   "mimetype": "text/x-python",
   "name": "python",
   "nbconvert_exporter": "python",
   "pygments_lexer": "ipython3",
   "version": "3.12.6"
  }
 },
 "nbformat": 4,
 "nbformat_minor": 5
}
